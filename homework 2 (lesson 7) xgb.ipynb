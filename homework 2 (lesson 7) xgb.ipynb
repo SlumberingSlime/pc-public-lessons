{
 "cells": [
  {
   "cell_type": "code",
   "execution_count": 1,
   "id": "66936514-805f-4f48-9c89-270af35003ed",
   "metadata": {
    "execution": {
     "parties": "[\"alice\",\"bob\"]",
     "shell.execute_reply.end": "2024-06-21T13:59:14.186227Z",
     "shell.execute_reply.started": "2024-06-21T13:59:11.945651Z",
     "to_execute": "2024-06-21T13:59:11.942Z"
    },
    "libroFormatter": "formatter-string"
   },
   "outputs": [
    {
     "data": {
      "text/html": [
       "<h4>bob's Output:</h4>"
      ]
     },
     "metadata": {},
     "output_type": "display_data"
    },
    {
     "name": "stderr",
     "output_type": "stream",
     "text": [
      "2024-06-21 13:59:12,943\tINFO worker.py:1540 -- Connecting to existing Ray cluster at address: 172.20.0.3:6379...\n",
      "2024-06-21 13:59:12,950\tINFO worker.py:1724 -- Connected to Ray cluster.\n",
      "2024-06-21 13:59:12.966 INFO api.py:233 [bob] -- [Anonymous_job] Started rayfed with {'CLUSTER_ADDRESSES': {'alice': 'alice:8000', 'bob': 'bob:8000'}, 'CURRENT_PARTY_NAME': 'bob', 'TLS_CONFIG': {}}\n",
      "2024-06-21 13:59:13.587 INFO barriers.py:284 [bob] -- [Anonymous_job] Succeeded to create receiver proxy actor.\n",
      "\u001b[36m(ReceiverProxyActor pid=8928)\u001b[0m 2024-06-21 13:59:13.583 INFO grpc_proxy.py:359 [bob] -- [Anonymous_job] ReceiverProxy binding port 8000, options: (('grpc.enable_retries', 1), ('grpc.so_reuseport', 0), ('grpc.max_send_message_length', 524288000), ('grpc.max_receive_message_length', 524288000), ('grpc.service_config', '{\"methodConfig\": [{\"name\": [{\"service\": \"GrpcService\"}], \"retryPolicy\": {\"maxAttempts\": 5, \"initialBackoff\": \"5s\", \"maxBackoff\": \"30s\", \"backoffMultiplier\": 2, \"retryableStatusCodes\": [\"UNAVAILABLE\"]}}]}'))...\n",
      "\u001b[36m(ReceiverProxyActor pid=8928)\u001b[0m 2024-06-21 13:59:13.586 INFO grpc_proxy.py:379 [bob] -- [Anonymous_job] Successfully start Grpc service without credentials.\n",
      "2024-06-21 13:59:14.175 INFO barriers.py:333 [bob] -- [Anonymous_job] SenderProxyActor has successfully created.\n",
      "2024-06-21 13:59:14.176 INFO barriers.py:520 [bob] -- [Anonymous_job] Try ping ['alice'] at 0 attemp, up to 3600 attemps.\n"
     ]
    },
    {
     "data": {
      "text/html": [
       "<h4>alice's Output:</h4>"
      ]
     },
     "metadata": {},
     "output_type": "display_data"
    },
    {
     "name": "stderr",
     "output_type": "stream",
     "text": [
      "2024-06-21 13:59:12,947\tINFO worker.py:1540 -- Connecting to existing Ray cluster at address: 172.20.0.2:6379...\n",
      "2024-06-21 13:59:12,956\tINFO worker.py:1724 -- Connected to Ray cluster.\n",
      "2024-06-21 13:59:12.973 INFO api.py:233 [alice] -- [Anonymous_job] Started rayfed with {'CLUSTER_ADDRESSES': {'alice': 'alice:8000', 'bob': 'bob:8000'}, 'CURRENT_PARTY_NAME': 'alice', 'TLS_CONFIG': {}}\n",
      "2024-06-21 13:59:13.597 INFO barriers.py:284 [alice] -- [Anonymous_job] Succeeded to create receiver proxy actor.\n",
      "\u001b[36m(ReceiverProxyActor pid=28339)\u001b[0m 2024-06-21 13:59:13.594 INFO grpc_proxy.py:359 [alice] -- [Anonymous_job] ReceiverProxy binding port 8000, options: (('grpc.enable_retries', 1), ('grpc.so_reuseport', 0), ('grpc.max_send_message_length', 524288000), ('grpc.max_receive_message_length', 524288000), ('grpc.service_config', '{\"methodConfig\": [{\"name\": [{\"service\": \"GrpcService\"}], \"retryPolicy\": {\"maxAttempts\": 5, \"initialBackoff\": \"5s\", \"maxBackoff\": \"30s\", \"backoffMultiplier\": 2, \"retryableStatusCodes\": [\"UNAVAILABLE\"]}}]}'))...\n",
      "\u001b[36m(ReceiverProxyActor pid=28339)\u001b[0m 2024-06-21 13:59:13.596 INFO grpc_proxy.py:379 [alice] -- [Anonymous_job] Successfully start Grpc service without credentials.\n",
      "2024-06-21 13:59:14.176 INFO barriers.py:333 [alice] -- [Anonymous_job] SenderProxyActor has successfully created.\n",
      "2024-06-21 13:59:14.177 INFO barriers.py:520 [alice] -- [Anonymous_job] Try ping ['bob'] at 0 attemp, up to 3600 attemps.\n"
     ]
    }
   ],
   "source": [
    "import time\n",
    "import secretflow as sf\n",
    "import spu\n",
    "import os\n",
    "\n",
    "start = time.perf_counter()\n",
    "\n",
    "network_conf = {\n",
    "    \"parties\": {\n",
    "        \"alice\": {\n",
    "            \"address\": \"alice:8000\",\n",
    "        },\n",
    "        \"bob\": {\n",
    "            \"address\": \"bob:8000\",\n",
    "        },\n",
    "    },\n",
    "}\n",
    "\n",
    "party = os.getenv(\"SELF_PARTY\", \"alice\")\n",
    "sf.shutdown()\n",
    "sf.init(\n",
    "    address=\"127.0.0.1:6379\",\n",
    "    cluster_config={**network_conf, \"self_party\": party},\n",
    "    log_to_driver=True,\n",
    ")"
   ]
  },
  {
   "cell_type": "code",
   "execution_count": 2,
   "id": "e3ad42e5-e7d2-4179-bb96-1aac63a12077",
   "metadata": {
    "execution": {
     "parties": "[\"alice\",\"bob\"]",
     "shell.execute_reply.end": "2024-06-21T13:59:17.542147Z",
     "shell.execute_reply.started": "2024-06-21T13:59:14.187877Z",
     "to_execute": "2024-06-21T13:59:11.942Z"
    },
    "libroFormatter": "formatter-string"
   },
   "outputs": [],
   "source": [
    "alice, bob = sf.PYU(\"alice\"), sf.PYU(\"bob\")\n",
    "spu_conf = {\n",
    "    \"nodes\": [\n",
    "        {\n",
    "            \"party\": \"alice\",\n",
    "            \"address\": \"alice:8001\",\n",
    "            \"listen_addr\": \"alice:8001\",\n",
    "        },\n",
    "        {\n",
    "            \"party\": \"bob\",\n",
    "            \"address\": \"bob:8001\",\n",
    "            \"listen_addr\": \"bob:8001\",\n",
    "        },\n",
    "    ],\n",
    "    \"runtime_config\": {\n",
    "        \"protocol\": spu.spu_pb2.SEMI2K,\n",
    "        \"field\": spu.spu_pb2.FM128,\n",
    "        \"sigmoid_mode\": spu.spu_pb2.RuntimeConfig.SIGMOID_REAL,\n",
    "    },\n",
    "}\n",
    "\n",
    "heu_config = {\n",
    "    'sk_keeper': {'party': 'alice'},\n",
    "    'evaluators': [{'party': 'bob'}],\n",
    "    'mode': 'PHEU',\n",
    "    'he_parameters': {\n",
    "        # ou is a fast encryption schema that is as secure as paillier.\n",
    "        'schema': 'ou',\n",
    "        'key_pair': {\n",
    "            'generate': {\n",
    "                # bit size should be 2048 to provide sufficient security.\n",
    "                'bit_size': 2048,\n",
    "            },\n",
    "        },\n",
    "    },\n",
    "    'encoding': {\n",
    "        'cleartext_type': 'DT_I32',\n",
    "        'encoder': \"IntegerEncoder\",\n",
    "        'encoder_args': {\"scale\": 1},\n",
    "    },\n",
    "}\n",
    "heu = sf.HEU(heu_config, spu_conf['runtime_config']['field'])\n",
    "spu_device = sf.SPU(cluster_def=spu_conf)"
   ]
  },
  {
   "cell_type": "code",
   "execution_count": 3,
   "id": "5e506c96-2b3a-4017-aa62-1176f2b7add2",
   "metadata": {
    "execution": {
     "parties": "[\"alice\",\"bob\"]",
     "shell.execute_reply.end": "2024-06-21T13:59:18.804828Z",
     "shell.execute_reply.started": "2024-06-21T13:59:17.028805Z",
     "to_execute": "2024-06-21T13:59:11.943Z"
    },
    "libroFormatter": "formatter-string"
   },
   "outputs": [
    {
     "data": {
      "text/html": [
       "<h4>alice's Output:</h4>"
      ]
     },
     "metadata": {},
     "output_type": "display_data"
    },
    {
     "name": "stderr",
     "output_type": "stream",
     "text": [
      "2024-06-21 13:59:17.031 INFO proxy.py:180 [alice] -- [Anonymous_job] Create proxy actor <class 'secretflow.data.core.agent.PartitionAgent'> with party alice.\n",
      "2024-06-21 13:59:17.098 INFO proxy.py:180 [alice] -- [Anonymous_job] Create proxy actor <class 'secretflow.data.core.agent.PartitionAgent'> with party bob.\n",
      "2024-06-21 13:59:18.723 WARNING partition.py:53 [alice] -- [Anonymous_job] To create a Partitoin, we suggest to use function source.\n",
      "2024-06-21 13:59:18.724 INFO proxy.py:180 [alice] -- [Anonymous_job] Create proxy actor <class 'secretflow.data.core.agent.PartitionAgent'> with party alice.\n"
     ]
    },
    {
     "data": {
      "text/html": [
       "<h4>bob's Output:</h4>"
      ]
     },
     "metadata": {},
     "output_type": "display_data"
    },
    {
     "name": "stderr",
     "output_type": "stream",
     "text": [
      "2024-06-21 13:59:17.546 INFO proxy.py:180 [bob] -- [Anonymous_job] Create proxy actor <class 'secretflow.data.core.agent.PartitionAgent'> with party alice.\n",
      "2024-06-21 13:59:17.548 INFO proxy.py:180 [bob] -- [Anonymous_job] Create proxy actor <class 'secretflow.data.core.agent.PartitionAgent'> with party bob.\n",
      "2024-06-21 13:59:18.716 WARNING partition.py:53 [bob] -- [Anonymous_job] To create a Partitoin, we suggest to use function source.\n",
      "2024-06-21 13:59:18.717 INFO proxy.py:180 [bob] -- [Anonymous_job] Create proxy actor <class 'secretflow.data.core.agent.PartitionAgent'> with party alice.\n"
     ]
    }
   ],
   "source": [
    "import pandas as pd\n",
    "import os\n",
    "from secretflow.data.vertical import read_csv as v_read_csv, VDataFrame\n",
    "from secretflow.data.core import partition\n",
    "\n",
    "current_dir = os.getcwd()\n",
    "# load alice and bob data as a single vdataframe\n",
    "data = v_read_csv(\n",
    "    {alice: f\"{current_dir}/my_bank_0_15.csv\", bob: f\"{current_dir}/my_bank_16.csv\"},\n",
    "    keys=\"id\",\n",
    "    drop_keys=\"id\",\n",
    ")\n",
    "# load alice's label data\n",
    "alice_y_pyu_object = alice(lambda path: pd.read_csv(path, index_col = 0))(f\"{current_dir}/bank_y.csv\") \n",
    "label = VDataFrame(partitions={alice: partition(alice_y_pyu_object)})"
   ]
  },
  {
   "cell_type": "code",
   "execution_count": 4,
   "id": "e45c1d15-5fd7-422a-a24c-f00926779833",
   "metadata": {
    "execution": {
     "parties": "[\"alice\",\"bob\"]",
     "shell.execute_reply.end": "2024-06-21T13:59:18.824240Z",
     "shell.execute_reply.started": "2024-06-21T13:59:18.721159Z",
     "to_execute": "2024-06-21T13:59:11.943Z"
    },
    "libroFormatter": "formatter-string"
   },
   "outputs": [
    {
     "data": {
      "text/html": [
       "<h4>bob's Output:</h4>"
      ]
     },
     "metadata": {},
     "output_type": "display_data"
    },
    {
     "data": {
      "text/plain": [
       "['age',\n",
       " 'job',\n",
       " 'marital',\n",
       " 'education',\n",
       " 'default',\n",
       " 'balance',\n",
       " 'housing',\n",
       " 'loan',\n",
       " 'contact',\n",
       " 'day',\n",
       " 'month',\n",
       " 'duration',\n",
       " 'campaign',\n",
       " 'pdays',\n",
       " 'previous',\n",
       " 'poutcome']"
      ]
     },
     "execution_count": 4,
     "metadata": {},
     "output_type": "execute_result"
    },
    {
     "data": {
      "text/html": [
       "<h4>alice's Output:</h4>"
      ]
     },
     "metadata": {},
     "output_type": "display_data"
    },
    {
     "data": {
      "text/plain": [
       "['age',\n",
       " 'job',\n",
       " 'marital',\n",
       " 'education',\n",
       " 'default',\n",
       " 'balance',\n",
       " 'housing',\n",
       " 'loan',\n",
       " 'contact',\n",
       " 'day',\n",
       " 'month',\n",
       " 'duration',\n",
       " 'campaign',\n",
       " 'pdays',\n",
       " 'previous',\n",
       " 'poutcome']"
      ]
     },
     "execution_count": 4,
     "metadata": {},
     "output_type": "execute_result"
    }
   ],
   "source": [
    "data.columns"
   ]
  },
  {
   "cell_type": "code",
   "execution_count": 5,
   "id": "19fad207-4b75-4349-aac8-700155164838",
   "metadata": {
    "execution": {
     "parties": "[\"alice\",\"bob\"]",
     "shell.execute_reply.end": "2024-06-21T13:59:19.852016Z",
     "shell.execute_reply.started": "2024-06-21T13:59:18.824128Z",
     "to_execute": "2024-06-21T13:59:11.943Z"
    },
    "libroFormatter": "formatter-string"
   },
   "outputs": [
    {
     "data": {
      "text/html": [
       "<h4>alice's Output:</h4>"
      ]
     },
     "metadata": {},
     "output_type": "display_data"
    },
    {
     "data": {
      "text/plain": [
       "['y']"
      ]
     },
     "execution_count": 5,
     "metadata": {},
     "output_type": "execute_result"
    },
    {
     "data": {
      "text/html": [
       "<h4>bob's Output:</h4>"
      ]
     },
     "metadata": {},
     "output_type": "display_data"
    },
    {
     "data": {
      "text/plain": [
       "['y']"
      ]
     },
     "execution_count": 5,
     "metadata": {},
     "output_type": "execute_result"
    }
   ],
   "source": [
    "label.columns"
   ]
  },
  {
   "cell_type": "code",
   "execution_count": 6,
   "id": "cafb2ef4-8f29-434d-9ee9-f8fc8c3e36ca",
   "metadata": {
    "execution": {
     "parties": "[\"alice\",\"bob\"]",
     "shell.execute_reply.end": "2024-06-21T13:59:22.538824Z",
     "shell.execute_reply.started": "2024-06-21T13:59:19.851416Z",
     "to_execute": "2024-06-21T13:59:11.943Z"
    },
    "libroFormatter": "formatter-string"
   },
   "outputs": [],
   "source": [
    "# from data descryptions we know we need to encode data\n",
    "from secretflow.preprocessing import LabelEncoder\n",
    "encoder = LabelEncoder()\n",
    "data['job'] = encoder.fit_transform(data['job'])\n",
    "data['marital'] = encoder.fit_transform(data['marital'])\n",
    "data['education'] = encoder.fit_transform(data['education'])\n",
    "data['default'] = encoder.fit_transform(data['default'])\n",
    "data['housing'] = encoder.fit_transform(data['housing'])\n",
    "data['loan'] = encoder.fit_transform(data['loan'])\n",
    "data['contact'] = encoder.fit_transform(data['contact'])\n",
    "data['poutcome'] = encoder.fit_transform(data['poutcome'])\n",
    "data['month'] = encoder.fit_transform(data['month'])\n",
    "label = encoder.fit_transform(label)\n"
   ]
  },
  {
   "cell_type": "code",
   "execution_count": 7,
   "id": "0ef8c0d3-708a-49fb-bcee-0a9fcf776b4e",
   "metadata": {
    "execution": {
     "parties": "[\"alice\",\"bob\"]",
     "shell.execute_reply.end": "2024-06-21T13:59:22.559363Z",
     "shell.execute_reply.started": "2024-06-21T13:59:22.538679Z",
     "to_execute": "2024-06-21T13:59:11.943Z"
    },
    "libroFormatter": "formatter-string"
   },
   "outputs": [],
   "source": [
    "from secretflow.data.split import train_test_split as train_test_split_fed\n"
   ]
  },
  {
   "cell_type": "code",
   "execution_count": 8,
   "id": "49c2ce37-89f6-4f73-a3c0-aedb5e02e280",
   "metadata": {
    "execution": {
     "parties": "[\"alice\",\"bob\"]",
     "shell.execute_reply.end": "2024-06-21T13:59:22.621428Z",
     "shell.execute_reply.started": "2024-06-21T13:59:22.558364Z",
     "to_execute": "2024-06-21T13:59:11.943Z"
    },
    "libroFormatter": "formatter-string"
   },
   "outputs": [],
   "source": [
    "X_train_fed, X_test_fed = train_test_split_fed(data, test_size=0.2, random_state=94)\n"
   ]
  },
  {
   "cell_type": "code",
   "execution_count": 9,
   "id": "2358c6ad-e84d-4983-8e3a-487677adb2f7",
   "metadata": {
    "execution": {
     "parties": "[\"alice\",\"bob\"]",
     "shell.execute_reply.end": "2024-06-21T13:59:22.651972Z",
     "shell.execute_reply.started": "2024-06-21T13:59:22.618752Z",
     "to_execute": "2024-06-21T13:59:11.943Z"
    },
    "libroFormatter": "formatter-string"
   },
   "outputs": [],
   "source": [
    "y_train_fed, y_test_fed = train_test_split_fed(label, test_size=0.2, random_state=94)"
   ]
  },
  {
   "cell_type": "code",
   "execution_count": 10,
   "id": "0b3d3a5d-628f-4497-91c7-574053441bdc",
   "metadata": {
    "execution": {
     "parties": "[\"alice\",\"bob\"]",
     "shell.execute_reply.end": "2024-06-21T13:59:22.659133Z",
     "shell.execute_reply.started": "2024-06-21T13:59:22.650202Z",
     "to_execute": "2024-06-21T13:59:11.943Z"
    },
    "libroFormatter": "formatter-string"
   },
   "outputs": [],
   "source": [
    "# from secretflow.ml.boost.sgb_v import (\n",
    "#     get_classic_XGB_params,\n",
    "#     Sgb,\n",
    "# )\n",
    "from secretflow.ml.boost.ss_xgb_v import Xgb"
   ]
  },
  {
   "cell_type": "code",
   "execution_count": 11,
   "id": "a02eb6d9-dc62-4a60-a151-443be82d2643",
   "metadata": {
    "execution": {
     "parties": "[\"alice\",\"bob\"]",
     "shell.execute_reply.end": "2024-06-21T14:00:22.735594Z",
     "shell.execute_reply.started": "2024-06-21T13:59:22.656511Z",
     "to_execute": "2024-06-21T13:59:11.943Z"
    },
    "libroFormatter": "formatter-string"
   },
   "outputs": [
    {
     "data": {
      "text/html": [
       "<h4>bob's Output:</h4>"
      ]
     },
     "metadata": {},
     "output_type": "display_data"
    },
    {
     "name": "stderr",
     "output_type": "stream",
     "text": [
      "2024-06-21 13:59:23.613 INFO proxy.py:180 [bob] -- [Anonymous_job] Create proxy actor <class 'secretflow.ml.boost.ss_xgb_v.core.tree_worker.XgbTreeWorker'> with party alice.\n",
      "2024-06-21 13:59:23.614 INFO proxy.py:180 [bob] -- [Anonymous_job] Create proxy actor <class 'secretflow.ml.boost.ss_xgb_v.core.tree_worker.XgbTreeWorker'> with party bob.\n",
      "2024-06-21 13:59:23.638 INFO model.py:239 [bob] -- [Anonymous_job] fragment_count 1\n",
      "2024-06-21 13:59:23.754 INFO model.py:257 [bob] -- [Anonymous_job] prepare time 1.0911757946014404s\n",
      "2024-06-21 13:59:24.689 INFO model.py:270 [bob] -- [Anonymous_job] global_setup time 0.934262752532959s\n",
      "2024-06-21 13:59:25.238 INFO model.py:289 [bob] -- [Anonymous_job] build & infeed bucket_map fragments [0, 0]\n",
      "2024-06-21 13:59:25.239 INFO model.py:292 [bob] -- [Anonymous_job] build & infeed bucket_map time 0.549368143081665s\n",
      "2024-06-21 13:59:25.271 INFO model.py:305 [bob] -- [Anonymous_job] init_pred time 0.03157997131347656s\n",
      "2024-06-21 13:59:25.400 INFO model.py:428 [bob] -- [Anonymous_job] epoch 0 tree_setup time 0.12804889678955078s\n",
      "2024-06-21 13:59:25.775 INFO model.py:476 [bob] -- [Anonymous_job] fragment[0, 0] gradient sum time 0.3738980293273926s\n",
      "2024-06-21 13:59:26.015 INFO model.py:536 [bob] -- [Anonymous_job] level 0 time 0.6138312816619873s\n",
      "2024-06-21 13:59:26.589 INFO model.py:476 [bob] -- [Anonymous_job] fragment[0, 0] gradient sum time 0.5727877616882324s\n",
      "2024-06-21 13:59:26.859 INFO model.py:536 [bob] -- [Anonymous_job] level 1 time 0.842710018157959s\n",
      "2024-06-21 13:59:27.963 INFO model.py:476 [bob] -- [Anonymous_job] fragment[0, 0] gradient sum time 1.104062795639038s\n",
      "2024-06-21 13:59:28.263 INFO model.py:536 [bob] -- [Anonymous_job] level 2 time 1.4040546417236328s\n",
      "2024-06-21 13:59:30.408 INFO model.py:476 [bob] -- [Anonymous_job] fragment[0, 0] gradient sum time 2.144066095352173s\n",
      "2024-06-21 13:59:30.761 INFO model.py:536 [bob] -- [Anonymous_job] level 3 time 2.497224807739258s\n",
      "2024-06-21 13:59:35.115 INFO model.py:476 [bob] -- [Anonymous_job] fragment[0, 0] gradient sum time 4.352680444717407s\n",
      "2024-06-21 13:59:35.650 INFO model.py:536 [bob] -- [Anonymous_job] level 4 time 4.888312816619873s\n",
      "2024-06-21 13:59:35.790 INFO xla_bridge.py:863 [bob] -- [Anonymous_job] Unable to initialize backend 'cuda': \n",
      "2024-06-21 13:59:35.791 INFO xla_bridge.py:863 [bob] -- [Anonymous_job] Unable to initialize backend 'rocm': module 'jaxlib.xla_extension' has no attribute 'GpuAllocatorConfig'\n",
      "2024-06-21 13:59:35.792 INFO xla_bridge.py:863 [bob] -- [Anonymous_job] Unable to initialize backend 'tpu': INTERNAL: Failed to open libtpu.so: libtpu.so: cannot open shared object file: No such file or directory\n",
      "2024-06-21 13:59:36.219 INFO model.py:444 [bob] -- [Anonymous_job] epoch 0 time 10.8186936378479s\n",
      "2024-06-21 13:59:36.624 INFO model.py:428 [bob] -- [Anonymous_job] epoch 1 tree_setup time 0.4042174816131592s\n",
      "2024-06-21 13:59:37.203 INFO model.py:476 [bob] -- [Anonymous_job] fragment[0, 0] gradient sum time 0.5774309635162354s\n",
      "2024-06-21 13:59:37.415 INFO model.py:536 [bob] -- [Anonymous_job] level 0 time 0.7889618873596191s\n",
      "2024-06-21 13:59:37.999 INFO model.py:476 [bob] -- [Anonymous_job] fragment[0, 0] gradient sum time 0.5833308696746826s\n",
      "2024-06-21 13:59:38.261 INFO model.py:536 [bob] -- [Anonymous_job] level 1 time 0.8460912704467773s\n",
      "2024-06-21 13:59:39.459 INFO model.py:476 [bob] -- [Anonymous_job] fragment[0, 0] gradient sum time 1.1969614028930664s\n",
      "2024-06-21 13:59:39.776 INFO model.py:536 [bob] -- [Anonymous_job] level 2 time 1.5139188766479492s\n",
      "2024-06-21 13:59:42.094 INFO model.py:476 [bob] -- [Anonymous_job] fragment[0, 0] gradient sum time 2.317262649536133s\n",
      "2024-06-21 13:59:42.483 INFO model.py:536 [bob] -- [Anonymous_job] level 3 time 2.706596851348877s\n",
      "2024-06-21 13:59:47.025 INFO model.py:476 [bob] -- [Anonymous_job] fragment[0, 0] gradient sum time 4.540489673614502s\n",
      "2024-06-21 13:59:47.538 INFO model.py:536 [bob] -- [Anonymous_job] level 4 time 5.053522825241089s\n",
      "2024-06-21 13:59:48.080 INFO model.py:444 [bob] -- [Anonymous_job] epoch 1 time 11.455235481262207s\n",
      "2024-06-21 13:59:48.475 INFO model.py:428 [bob] -- [Anonymous_job] epoch 2 tree_setup time 0.3938753604888916s\n",
      "2024-06-21 13:59:49.084 INFO model.py:476 [bob] -- [Anonymous_job] fragment[0, 0] gradient sum time 0.6071987152099609s\n",
      "2024-06-21 13:59:49.327 INFO model.py:536 [bob] -- [Anonymous_job] level 0 time 0.8501667976379395s\n",
      "2024-06-21 13:59:49.926 INFO model.py:476 [bob] -- [Anonymous_job] fragment[0, 0] gradient sum time 0.5982768535614014s\n",
      "2024-06-21 13:59:50.157 INFO model.py:536 [bob] -- [Anonymous_job] level 1 time 0.8299779891967773s\n",
      "2024-06-21 13:59:51.266 INFO model.py:476 [bob] -- [Anonymous_job] fragment[0, 0] gradient sum time 1.1084239482879639s\n",
      "2024-06-21 13:59:51.556 INFO model.py:536 [bob] -- [Anonymous_job] level 2 time 1.3975930213928223s\n",
      "2024-06-21 13:59:53.861 INFO model.py:476 [bob] -- [Anonymous_job] fragment[0, 0] gradient sum time 2.3044800758361816s\n",
      "2024-06-21 13:59:54.275 INFO model.py:536 [bob] -- [Anonymous_job] level 3 time 2.7182137966156006s\n",
      "2024-06-21 13:59:58.854 INFO model.py:476 [bob] -- [Anonymous_job] fragment[0, 0] gradient sum time 4.578933477401733s\n",
      "2024-06-21 13:59:59.349 INFO model.py:536 [bob] -- [Anonymous_job] level 4 time 5.073456525802612s\n",
      "2024-06-21 13:59:59.840 INFO model.py:444 [bob] -- [Anonymous_job] epoch 2 time 11.364381551742554s\n",
      "2024-06-21 14:00:00.250 INFO model.py:428 [bob] -- [Anonymous_job] epoch 3 tree_setup time 0.41017651557922363s\n",
      "2024-06-21 14:00:00.812 INFO model.py:476 [bob] -- [Anonymous_job] fragment[0, 0] gradient sum time 0.5596268177032471s\n",
      "2024-06-21 14:00:01.031 INFO model.py:536 [bob] -- [Anonymous_job] level 0 time 0.7786974906921387s\n",
      "2024-06-21 14:00:01.615 INFO model.py:476 [bob] -- [Anonymous_job] fragment[0, 0] gradient sum time 0.583449125289917s\n",
      "2024-06-21 14:00:01.861 INFO model.py:536 [bob] -- [Anonymous_job] level 1 time 0.828946590423584s\n",
      "2024-06-21 14:00:03.023 INFO model.py:476 [bob] -- [Anonymous_job] fragment[0, 0] gradient sum time 1.160921573638916s\n",
      "2024-06-21 14:00:03.295 INFO model.py:536 [bob] -- [Anonymous_job] level 2 time 1.4331393241882324s\n",
      "2024-06-21 14:00:05.529 INFO model.py:476 [bob] -- [Anonymous_job] fragment[0, 0] gradient sum time 2.2335214614868164s\n",
      "2024-06-21 14:00:05.899 INFO model.py:536 [bob] -- [Anonymous_job] level 3 time 2.603721857070923s\n",
      "2024-06-21 14:00:10.450 INFO model.py:476 [bob] -- [Anonymous_job] fragment[0, 0] gradient sum time 4.549889802932739s\n",
      "2024-06-21 14:00:10.933 INFO model.py:536 [bob] -- [Anonymous_job] level 4 time 5.032604694366455s\n",
      "2024-06-21 14:00:11.417 INFO model.py:444 [bob] -- [Anonymous_job] epoch 3 time 11.166290760040283s\n",
      "2024-06-21 14:00:11.807 INFO model.py:428 [bob] -- [Anonymous_job] epoch 4 tree_setup time 0.38921332359313965s\n",
      "2024-06-21 14:00:12.360 INFO model.py:476 [bob] -- [Anonymous_job] fragment[0, 0] gradient sum time 0.5516722202301025s\n",
      "2024-06-21 14:00:12.592 INFO model.py:536 [bob] -- [Anonymous_job] level 0 time 0.7830314636230469s\n",
      "2024-06-21 14:00:13.206 INFO model.py:476 [bob] -- [Anonymous_job] fragment[0, 0] gradient sum time 0.6135222911834717s\n",
      "2024-06-21 14:00:13.447 INFO model.py:536 [bob] -- [Anonymous_job] level 1 time 0.8542006015777588s\n",
      "2024-06-21 14:00:14.600 INFO model.py:476 [bob] -- [Anonymous_job] fragment[0, 0] gradient sum time 1.15232515335083s\n",
      "2024-06-21 14:00:14.871 INFO model.py:536 [bob] -- [Anonymous_job] level 2 time 1.4236657619476318s\n",
      "2024-06-21 14:00:17.147 INFO model.py:476 [bob] -- [Anonymous_job] fragment[0, 0] gradient sum time 2.2749950885772705s\n",
      "2024-06-21 14:00:17.486 INFO model.py:536 [bob] -- [Anonymous_job] level 3 time 2.6143898963928223s\n",
      "2024-06-21 14:00:22.029 INFO model.py:476 [bob] -- [Anonymous_job] fragment[0, 0] gradient sum time 4.541932106018066s\n",
      "2024-06-21 14:00:22.525 INFO model.py:536 [bob] -- [Anonymous_job] level 4 time 5.037755489349365s\n",
      "2024-06-21 14:00:22.731 INFO model.py:444 [bob] -- [Anonymous_job] epoch 4 time 10.923482418060303s\n"
     ]
    },
    {
     "data": {
      "text/html": [
       "<h4>alice's Output:</h4>"
      ]
     },
     "metadata": {},
     "output_type": "display_data"
    },
    {
     "name": "stderr",
     "output_type": "stream",
     "text": [
      "2024-06-21 13:59:23.611 INFO proxy.py:180 [alice] -- [Anonymous_job] Create proxy actor <class 'secretflow.ml.boost.ss_xgb_v.core.tree_worker.XgbTreeWorker'> with party alice.\n",
      "2024-06-21 13:59:23.637 INFO proxy.py:180 [alice] -- [Anonymous_job] Create proxy actor <class 'secretflow.ml.boost.ss_xgb_v.core.tree_worker.XgbTreeWorker'> with party bob.\n",
      "2024-06-21 13:59:23.638 INFO model.py:239 [alice] -- [Anonymous_job] fragment_count 1\n",
      "2024-06-21 13:59:23.757 INFO model.py:257 [alice] -- [Anonymous_job] prepare time 1.0998330116271973s\n",
      "2024-06-21 13:59:24.686 INFO model.py:270 [alice] -- [Anonymous_job] global_setup time 0.927753210067749s\n",
      "2024-06-21 13:59:25.240 INFO model.py:289 [alice] -- [Anonymous_job] build & infeed bucket_map fragments [0, 0]\n",
      "2024-06-21 13:59:25.241 INFO model.py:292 [alice] -- [Anonymous_job] build & infeed bucket_map time 0.554624080657959s\n",
      "2024-06-21 13:59:25.274 INFO model.py:305 [alice] -- [Anonymous_job] init_pred time 0.03257489204406738s\n",
      "2024-06-21 13:59:25.402 INFO model.py:428 [alice] -- [Anonymous_job] epoch 0 tree_setup time 0.12656188011169434s\n",
      "2024-06-21 13:59:25.779 INFO model.py:476 [alice] -- [Anonymous_job] fragment[0, 0] gradient sum time 0.3731248378753662s\n",
      "2024-06-21 13:59:26.018 INFO model.py:536 [alice] -- [Anonymous_job] level 0 time 0.6127314567565918s\n",
      "2024-06-21 13:59:26.592 INFO model.py:476 [alice] -- [Anonymous_job] fragment[0, 0] gradient sum time 0.572645902633667s\n",
      "2024-06-21 13:59:26.862 INFO model.py:536 [alice] -- [Anonymous_job] level 1 time 0.8425302505493164s\n",
      "2024-06-21 13:59:27.967 INFO model.py:476 [alice] -- [Anonymous_job] fragment[0, 0] gradient sum time 1.1043593883514404s\n",
      "2024-06-21 13:59:28.266 INFO model.py:536 [alice] -- [Anonymous_job] level 2 time 1.4037580490112305s\n",
      "2024-06-21 13:59:30.411 INFO model.py:476 [alice] -- [Anonymous_job] fragment[0, 0] gradient sum time 2.1443967819213867s\n",
      "2024-06-21 13:59:30.764 INFO model.py:536 [alice] -- [Anonymous_job] level 3 time 2.4971227645874023s\n",
      "2024-06-21 13:59:35.118 INFO model.py:476 [alice] -- [Anonymous_job] fragment[0, 0] gradient sum time 4.353039741516113s\n",
      "2024-06-21 13:59:35.654 INFO model.py:536 [alice] -- [Anonymous_job] level 4 time 4.889009475708008s\n",
      "2024-06-21 13:59:35.794 INFO xla_bridge.py:863 [alice] -- [Anonymous_job] Unable to initialize backend 'cuda': \n",
      "2024-06-21 13:59:35.795 INFO xla_bridge.py:863 [alice] -- [Anonymous_job] Unable to initialize backend 'rocm': module 'jaxlib.xla_extension' has no attribute 'GpuAllocatorConfig'\n",
      "2024-06-21 13:59:35.796 INFO xla_bridge.py:863 [alice] -- [Anonymous_job] Unable to initialize backend 'tpu': INTERNAL: Failed to open libtpu.so: libtpu.so: cannot open shared object file: No such file or directory\n",
      "2024-06-21 13:59:36.223 INFO model.py:444 [alice] -- [Anonymous_job] epoch 0 time 10.82005763053894s\n",
      "2024-06-21 13:59:36.627 INFO model.py:428 [alice] -- [Anonymous_job] epoch 1 tree_setup time 0.4029862880706787s\n",
      "2024-06-21 13:59:37.206 INFO model.py:476 [alice] -- [Anonymous_job] fragment[0, 0] gradient sum time 0.5745184421539307s\n",
      "2024-06-21 13:59:37.417 INFO model.py:536 [alice] -- [Anonymous_job] level 0 time 0.7857711315155029s\n",
      "2024-06-21 13:59:38.001 INFO model.py:476 [alice] -- [Anonymous_job] fragment[0, 0] gradient sum time 0.5832879543304443s\n",
      "2024-06-21 13:59:38.264 INFO model.py:536 [alice] -- [Anonymous_job] level 1 time 0.8461987972259521s\n",
      "2024-06-21 13:59:39.462 INFO model.py:476 [alice] -- [Anonymous_job] fragment[0, 0] gradient sum time 1.1968655586242676s\n",
      "2024-06-21 13:59:39.778 INFO model.py:536 [alice] -- [Anonymous_job] level 2 time 1.513289451599121s\n",
      "2024-06-21 13:59:42.098 INFO model.py:476 [alice] -- [Anonymous_job] fragment[0, 0] gradient sum time 2.31899094581604s\n",
      "2024-06-21 13:59:42.486 INFO model.py:536 [alice] -- [Anonymous_job] level 3 time 2.7072808742523193s\n",
      "2024-06-21 13:59:47.028 INFO model.py:476 [alice] -- [Anonymous_job] fragment[0, 0] gradient sum time 4.540814399719238s\n",
      "2024-06-21 13:59:47.540 INFO model.py:536 [alice] -- [Anonymous_job] level 4 time 5.053546667098999s\n",
      "2024-06-21 13:59:48.083 INFO model.py:444 [alice] -- [Anonymous_job] epoch 1 time 11.455044269561768s\n",
      "2024-06-21 13:59:48.477 INFO model.py:428 [alice] -- [Anonymous_job] epoch 2 tree_setup time 0.39327001571655273s\n",
      "2024-06-21 13:59:49.087 INFO model.py:476 [alice] -- [Anonymous_job] fragment[0, 0] gradient sum time 0.6064844131469727s\n",
      "2024-06-21 13:59:49.329 INFO model.py:536 [alice] -- [Anonymous_job] level 0 time 0.848729133605957s\n",
      "2024-06-21 13:59:49.928 INFO model.py:476 [alice] -- [Anonymous_job] fragment[0, 0] gradient sum time 0.59834885597229s\n",
      "2024-06-21 13:59:50.160 INFO model.py:536 [alice] -- [Anonymous_job] level 1 time 0.8296365737915039s\n",
      "2024-06-21 13:59:51.270 INFO model.py:476 [alice] -- [Anonymous_job] fragment[0, 0] gradient sum time 1.109060525894165s\n",
      "2024-06-21 13:59:51.558 INFO model.py:536 [alice] -- [Anonymous_job] level 2 time 1.397106647491455s\n",
      "2024-06-21 13:59:53.864 INFO model.py:476 [alice] -- [Anonymous_job] fragment[0, 0] gradient sum time 2.30544376373291s\n",
      "2024-06-21 13:59:54.277 INFO model.py:536 [alice] -- [Anonymous_job] level 3 time 2.7185115814208984s\n",
      "2024-06-21 13:59:58.858 INFO model.py:476 [alice] -- [Anonymous_job] fragment[0, 0] gradient sum time 4.580429553985596s\n",
      "2024-06-21 13:59:59.352 INFO model.py:536 [alice] -- [Anonymous_job] level 4 time 5.073943138122559s\n",
      "2024-06-21 13:59:59.842 INFO model.py:444 [alice] -- [Anonymous_job] epoch 2 time 11.364157676696777s\n",
      "2024-06-21 14:00:00.253 INFO model.py:428 [alice] -- [Anonymous_job] epoch 3 tree_setup time 0.4102604389190674s\n",
      "2024-06-21 14:00:00.815 INFO model.py:476 [alice] -- [Anonymous_job] fragment[0, 0] gradient sum time 0.5579578876495361s\n",
      "2024-06-21 14:00:01.034 INFO model.py:536 [alice] -- [Anonymous_job] level 0 time 0.7771148681640625s\n",
      "2024-06-21 14:00:01.619 INFO model.py:476 [alice] -- [Anonymous_job] fragment[0, 0] gradient sum time 0.5844810009002686s\n",
      "2024-06-21 14:00:01.864 INFO model.py:536 [alice] -- [Anonymous_job] level 1 time 0.8291647434234619s\n",
      "2024-06-21 14:00:03.026 INFO model.py:476 [alice] -- [Anonymous_job] fragment[0, 0] gradient sum time 1.1614031791687012s\n",
      "2024-06-21 14:00:03.297 INFO model.py:536 [alice] -- [Anonymous_job] level 2 time 1.4328842163085938s\n",
      "2024-06-21 14:00:05.532 INFO model.py:476 [alice] -- [Anonymous_job] fragment[0, 0] gradient sum time 2.234290838241577s\n",
      "2024-06-21 14:00:05.902 INFO model.py:536 [alice] -- [Anonymous_job] level 3 time 2.603721857070923s\n",
      "2024-06-21 14:00:10.453 INFO model.py:476 [alice] -- [Anonymous_job] fragment[0, 0] gradient sum time 4.5503339767456055s\n",
      "2024-06-21 14:00:10.935 INFO model.py:536 [alice] -- [Anonymous_job] level 4 time 5.032294034957886s\n",
      "2024-06-21 14:00:11.419 INFO model.py:444 [alice] -- [Anonymous_job] epoch 3 time 11.165860652923584s\n",
      "2024-06-21 14:00:11.809 INFO model.py:428 [alice] -- [Anonymous_job] epoch 4 tree_setup time 0.38872289657592773s\n",
      "2024-06-21 14:00:12.364 INFO model.py:476 [alice] -- [Anonymous_job] fragment[0, 0] gradient sum time 0.551393985748291s\n",
      "2024-06-21 14:00:12.594 INFO model.py:536 [alice] -- [Anonymous_job] level 0 time 0.7816221714019775s\n",
      "2024-06-21 14:00:13.209 INFO model.py:476 [alice] -- [Anonymous_job] fragment[0, 0] gradient sum time 0.6144442558288574s\n",
      "2024-06-21 14:00:13.449 INFO model.py:536 [alice] -- [Anonymous_job] level 1 time 0.8541784286499023s\n",
      "2024-06-21 14:00:14.603 INFO model.py:476 [alice] -- [Anonymous_job] fragment[0, 0] gradient sum time 1.153202772140503s\n",
      "2024-06-21 14:00:14.873 INFO model.py:536 [alice] -- [Anonymous_job] level 2 time 1.4231958389282227s\n",
      "2024-06-21 14:00:17.150 INFO model.py:476 [alice] -- [Anonymous_job] fragment[0, 0] gradient sum time 2.275777816772461s\n",
      "2024-06-21 14:00:17.489 INFO model.py:536 [alice] -- [Anonymous_job] level 3 time 2.6153407096862793s\n",
      "2024-06-21 14:00:22.032 INFO model.py:476 [alice] -- [Anonymous_job] fragment[0, 0] gradient sum time 4.542042016983032s\n",
      "2024-06-21 14:00:22.527 INFO model.py:536 [alice] -- [Anonymous_job] level 4 time 5.037163496017456s\n",
      "2024-06-21 14:00:22.733 INFO model.py:444 [alice] -- [Anonymous_job] epoch 4 time 10.923522233963013s\n"
     ]
    }
   ],
   "source": [
    "xgb=Xgb(spu_device)\n",
    "params = {\n",
    "    # for more detail, see Xgb API doc\n",
    "    'num_boost_round': 5,\n",
    "    'max_depth': 5,\n",
    "    'learning_rate': 0.1,\n",
    "    'sketch_eps': 0.08,\n",
    "    'objective': 'logistic',\n",
    "    'reg_lambda': 0.1,\n",
    "    'subsample': 1,\n",
    "    'colsample_by_tree': 1,\n",
    "    'base_score': 0.5,\n",
    "}\n",
    "model = xgb.train(params, X_train_fed, y_train_fed)"
   ]
  },
  {
   "cell_type": "code",
   "execution_count": 12,
   "id": "1df667b6-73c6-4d0a-b006-ecad1f6dc90c",
   "metadata": {
    "execution": {
     "parties": "[\"alice\",\"bob\"]",
     "shell.execute_reply.end": "2024-06-21T14:00:29.058550Z",
     "shell.execute_reply.started": "2024-06-21T14:00:22.735325Z",
     "to_execute": "2024-06-21T13:59:11.943Z"
    },
    "libroFormatter": "formatter-string"
   },
   "outputs": [
    {
     "data": {
      "text/html": [
       "<h4>bob's Output:</h4>"
      ]
     },
     "metadata": {},
     "output_type": "display_data"
    },
    {
     "name": "stderr",
     "output_type": "stream",
     "text": [
      "2024-06-21 14:00:22.755 INFO proxy.py:180 [bob] -- [Anonymous_job] Create proxy actor <class 'secretflow.ml.boost.ss_xgb_v.core.tree_worker.XgbTreeWorker'> with party alice.\n",
      "2024-06-21 14:00:22.755 INFO proxy.py:180 [bob] -- [Anonymous_job] Create proxy actor <class 'secretflow.ml.boost.ss_xgb_v.core.tree_worker.XgbTreeWorker'> with party bob.\n",
      "2024-06-21 14:00:26.690 INFO proxy.py:180 [bob] -- [Anonymous_job] Create proxy actor <class 'secretflow.ml.boost.ss_xgb_v.core.tree_worker.XgbTreeWorker'> with party alice.\n",
      "2024-06-21 14:00:26.690 INFO proxy.py:180 [bob] -- [Anonymous_job] Create proxy actor <class 'secretflow.ml.boost.ss_xgb_v.core.tree_worker.XgbTreeWorker'> with party bob.\n"
     ]
    },
    {
     "name": "stdout",
     "output_type": "stream",
     "text": [
      "train set AUC score:  0.9027875524455824 test set AUC score:  0.892408765690599\n"
     ]
    },
    {
     "data": {
      "text/html": [
       "<h4>alice's Output:</h4>"
      ]
     },
     "metadata": {},
     "output_type": "display_data"
    },
    {
     "name": "stderr",
     "output_type": "stream",
     "text": [
      "2024-06-21 14:00:22.757 INFO proxy.py:180 [alice] -- [Anonymous_job] Create proxy actor <class 'secretflow.ml.boost.ss_xgb_v.core.tree_worker.XgbTreeWorker'> with party alice.\n",
      "2024-06-21 14:00:22.786 INFO proxy.py:180 [alice] -- [Anonymous_job] Create proxy actor <class 'secretflow.ml.boost.ss_xgb_v.core.tree_worker.XgbTreeWorker'> with party bob.\n",
      "2024-06-21 14:00:26.693 INFO proxy.py:180 [alice] -- [Anonymous_job] Create proxy actor <class 'secretflow.ml.boost.ss_xgb_v.core.tree_worker.XgbTreeWorker'> with party alice.\n",
      "2024-06-21 14:00:26.720 INFO proxy.py:180 [alice] -- [Anonymous_job] Create proxy actor <class 'secretflow.ml.boost.ss_xgb_v.core.tree_worker.XgbTreeWorker'> with party bob.\n"
     ]
    },
    {
     "name": "stdout",
     "output_type": "stream",
     "text": [
      "train set AUC score:  0.9027875524455824 test set AUC score:  0.892408765690599\n"
     ]
    }
   ],
   "source": [
    "from secretflow.device.driver import reveal\n",
    "from sklearn.metrics import roc_auc_score\n",
    "\n",
    "# we reveal and look at the evaluation score in cleartext, but there are safer alternatives\n",
    "\n",
    "print(\n",
    "    \"train set AUC score: \",\n",
    "    roc_auc_score(reveal(y_train_fed.partitions[alice].data), reveal(model.predict(X_train_fed))),\n",
    "    \"test set AUC score: \",\n",
    "    roc_auc_score(reveal(y_test_fed.partitions[alice].data), reveal(model.predict(X_test_fed))),\n",
    ")"
   ]
  },
  {
   "cell_type": "code",
   "execution_count": 13,
   "id": "fbcaecb4-f299-43ce-90da-d7dad8aea2a4",
   "metadata": {
    "execution": {
     "parties": "[\"alice\",\"bob\"]",
     "shell.execute_reply.end": "2024-06-21T14:00:29.064310Z",
     "shell.execute_reply.started": "2024-06-21T14:00:29.057869Z",
     "to_execute": "2024-06-21T13:59:11.944Z"
    },
    "libroFormatter": "formatter-string"
   },
   "outputs": [
    {
     "data": {
      "text/html": [
       "<h4>bob's Output:</h4>"
      ]
     },
     "metadata": {},
     "output_type": "display_data"
    },
    {
     "data": {
      "text/plain": [
       "76.11852605100012"
      ]
     },
     "execution_count": 13,
     "metadata": {},
     "output_type": "execute_result"
    },
    {
     "data": {
      "text/html": [
       "<h4>alice's Output:</h4>"
      ]
     },
     "metadata": {},
     "output_type": "display_data"
    },
    {
     "data": {
      "text/plain": [
       "76.11653968600058"
      ]
     },
     "execution_count": 13,
     "metadata": {},
     "output_type": "execute_result"
    }
   ],
   "source": [
    "time_elapse = time.perf_counter() - start\n",
    "time_elapse"
   ]
  },
  {
   "cell_type": "code",
   "execution_count": 14,
   "id": "37781184-d4e0-43e7-87de-9bde9a4b2563",
   "metadata": {
    "execution": {
     "parties": "[\"alice\",\"bob\"]",
     "shell.execute_reply.end": "2024-06-21T14:00:29.070019Z",
     "shell.execute_reply.started": "2024-06-21T14:00:29.065240Z",
     "to_execute": "2024-06-21T13:59:11.944Z"
    },
    "libroFormatter": "formatter-string"
   },
   "outputs": [],
   "source": [
    "# Questions:\n",
    "# 1. Produce this task using ss-XGB ?\n",
    "# 2. How much gain does ss-XGB achieve?\n",
    "# 3. What about if Alice has 15 features while Bob has 1 feature? Can SGB and ss-XGB outperform alice's single party XGB's model?\n",
    "\n",
    "# 1. done\n",
    "# 2. train:0.9027049742255001\n",
    "#    test:0.8924150097847268\n",
    "# 3. alice's single party XGB's model performs better\n",
    "#    ss_xgb time consuming: more than 76s\n",
    "#       train set AUC score:  0.9027875524455824 test set AUC score:  0.892408765690599\n",
    "#    sgb time consuming: 55(given by file \"SGB 练习——联合建模有数据价值吗？.ipynb\" )\n",
    "#       train set AUC score:  0.918428687751083 test set AUC score:  0.9060391606457412\n",
    "#    single party xgb: time: very fast\n",
    "#       train set AUC score:  0.9281303699212398 test set AUC score:  0.9116829545018299 num_trees:  20"
   ]
  }
 ],
 "metadata": {},
 "nbformat": 4,
 "nbformat_minor": 5
}
