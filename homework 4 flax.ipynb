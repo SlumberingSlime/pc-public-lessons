{
 "cells": [
  {
   "cell_type": "code",
   "execution_count": 1,
   "id": "b3286a66-796e-4a90-a5f7-c5c88934d596",
   "metadata": {
    "execution": {
     "parties": "[\"alice\",\"bob\"]",
     "shell.execute_reply.end": "2024-06-22T22:18:15.468911Z",
     "shell.execute_reply.started": "2024-06-22T22:18:08.256895Z",
     "to_execute": "2024-06-22T22:18:08.252Z"
    },
    "libroFormatter": "formatter-string"
   },
   "outputs": [
    {
     "data": {
      "text/html": [
       "<h4>alice's Output:</h4>"
      ]
     },
     "metadata": {},
     "output_type": "display_data"
    },
    {
     "name": "stdout",
     "output_type": "stream",
     "text": [
      "Requirement already satisfied: flax in /usr/local/lib/python3.10/site-packages (0.8.4)\n",
      "Requirement already satisfied: numpy>=1.22 in /usr/local/lib/python3.10/site-packages (from flax) (1.24.3)\n",
      "Requirement already satisfied: jax>=0.4.19 in /usr/local/lib/python3.10/site-packages (from flax) (0.4.26)\n",
      "Requirement already satisfied: msgpack in /usr/local/lib/python3.10/site-packages (from flax) (1.0.8)\n",
      "Requirement already satisfied: optax in /usr/local/lib/python3.10/site-packages (from flax) (0.2.2)\n",
      "Requirement already satisfied: orbax-checkpoint in /usr/local/lib/python3.10/site-packages (from flax) (0.5.20)\n",
      "Requirement already satisfied: tensorstore in /usr/local/lib/python3.10/site-packages (from flax) (0.1.63)\n",
      "Requirement already satisfied: rich>=11.1 in /usr/local/lib/python3.10/site-packages (from flax) (13.7.1)\n",
      "Requirement already satisfied: typing-extensions>=4.2 in /usr/local/lib/python3.10/site-packages (from flax) (4.11.0)\n",
      "Requirement already satisfied: PyYAML>=5.4.1 in /usr/local/lib/python3.10/site-packages (from flax) (6.0.1)\n",
      "Requirement already satisfied: ml-dtypes>=0.2.0 in /usr/local/lib/python3.10/site-packages (from jax>=0.4.19->flax) (0.4.0)\n",
      "Requirement already satisfied: opt-einsum in /usr/local/lib/python3.10/site-packages (from jax>=0.4.19->flax) (3.3.0)\n",
      "Requirement already satisfied: scipy>=1.9 in /usr/local/lib/python3.10/site-packages (from jax>=0.4.19->flax) (1.13.0)\n",
      "Requirement already satisfied: markdown-it-py>=2.2.0 in /usr/local/lib/python3.10/site-packages (from rich>=11.1->flax) (3.0.0)\n",
      "Requirement already satisfied: pygments<3.0.0,>=2.13.0 in /usr/local/lib/python3.10/site-packages (from rich>=11.1->flax) (2.17.2)\n",
      "Requirement already satisfied: absl-py>=0.7.1 in /usr/local/lib/python3.10/site-packages (from optax->flax) (2.1.0)\n",
      "Requirement already satisfied: chex>=0.1.86 in /usr/local/lib/python3.10/site-packages (from optax->flax) (0.1.86)\n",
      "Requirement already satisfied: jaxlib>=0.1.37 in /usr/local/lib/python3.10/site-packages (from optax->flax) (0.4.26)\n",
      "Requirement already satisfied: etils[epath,epy] in /usr/local/lib/python3.10/site-packages (from orbax-checkpoint->flax) (1.7.0)\n",
      "Requirement already satisfied: nest_asyncio in /usr/local/lib/python3.10/site-packages (from orbax-checkpoint->flax) (1.6.0)\n",
      "Requirement already satisfied: protobuf in /usr/local/lib/python3.10/site-packages (from orbax-checkpoint->flax) (3.20.3)\n",
      "Requirement already satisfied: toolz>=0.9.0 in /usr/local/lib/python3.10/site-packages (from chex>=0.1.86->optax->flax) (0.12.1)\n",
      "Requirement already satisfied: mdurl~=0.1 in /usr/local/lib/python3.10/site-packages (from markdown-it-py>=2.2.0->rich>=11.1->flax) (0.1.2)\n",
      "Requirement already satisfied: fsspec in /usr/local/lib/python3.10/site-packages (from etils[epath,epy]->orbax-checkpoint->flax) (2024.2.0)\n",
      "Requirement already satisfied: importlib_resources in /usr/local/lib/python3.10/site-packages (from etils[epath,epy]->orbax-checkpoint->flax) (6.4.0)\n",
      "Requirement already satisfied: zipp in /usr/local/lib/python3.10/site-packages (from etils[epath,epy]->orbax-checkpoint->flax) (3.18.1)\n",
      "\u001b[33mWARNING: Running pip as the 'root' user can result in broken permissions and conflicting behaviour with the system package manager. It is recommended to use a virtual environment instead: https://pip.pypa.io/warnings/venv\u001b[0m\u001b[33m\n",
      "\u001b[0m"
     ]
    },
    {
     "data": {
      "text/html": [
       "<h4>bob's Output:</h4>"
      ]
     },
     "metadata": {},
     "output_type": "display_data"
    },
    {
     "name": "stdout",
     "output_type": "stream",
     "text": [
      "Collecting flax\n",
      "  Downloading flax-0.8.4-py3-none-any.whl.metadata (10 kB)\n",
      "Requirement already satisfied: numpy>=1.22 in /usr/local/lib/python3.10/site-packages (from flax) (1.24.3)\n",
      "Requirement already satisfied: jax>=0.4.19 in /usr/local/lib/python3.10/site-packages (from flax) (0.4.26)\n",
      "Requirement already satisfied: msgpack in /usr/local/lib/python3.10/site-packages (from flax) (1.0.8)\n",
      "Collecting optax (from flax)\n",
      "  Downloading optax-0.2.2-py3-none-any.whl.metadata (8.1 kB)\n",
      "Collecting orbax-checkpoint (from flax)\n",
      "  Downloading orbax_checkpoint-0.5.20-py3-none-any.whl.metadata (1.8 kB)\n",
      "Collecting tensorstore (from flax)\n",
      "  Downloading tensorstore-0.1.63-cp310-cp310-manylinux_2_17_x86_64.manylinux2014_x86_64.whl.metadata (3.0 kB)\n",
      "Requirement already satisfied: rich>=11.1 in /usr/local/lib/python3.10/site-packages (from flax) (13.7.1)\n",
      "Requirement already satisfied: typing-extensions>=4.2 in /usr/local/lib/python3.10/site-packages (from flax) (4.11.0)\n",
      "Requirement already satisfied: PyYAML>=5.4.1 in /usr/local/lib/python3.10/site-packages (from flax) (6.0.1)\n",
      "Requirement already satisfied: ml-dtypes>=0.2.0 in /usr/local/lib/python3.10/site-packages (from jax>=0.4.19->flax) (0.4.0)\n",
      "Requirement already satisfied: opt-einsum in /usr/local/lib/python3.10/site-packages (from jax>=0.4.19->flax) (3.3.0)\n",
      "Requirement already satisfied: scipy>=1.9 in /usr/local/lib/python3.10/site-packages (from jax>=0.4.19->flax) (1.13.0)\n",
      "Requirement already satisfied: markdown-it-py>=2.2.0 in /usr/local/lib/python3.10/site-packages (from rich>=11.1->flax) (3.0.0)\n",
      "Requirement already satisfied: pygments<3.0.0,>=2.13.0 in /usr/local/lib/python3.10/site-packages (from rich>=11.1->flax) (2.17.2)\n",
      "Requirement already satisfied: absl-py>=0.7.1 in /usr/local/lib/python3.10/site-packages (from optax->flax) (2.1.0)\n",
      "Collecting chex>=0.1.86 (from optax->flax)\n",
      "  Downloading chex-0.1.86-py3-none-any.whl.metadata (17 kB)\n",
      "Requirement already satisfied: jaxlib>=0.1.37 in /usr/local/lib/python3.10/site-packages (from optax->flax) (0.4.26)\n",
      "Collecting etils[epath,epy] (from orbax-checkpoint->flax)\n",
      "  Downloading etils-1.7.0-py3-none-any.whl.metadata (6.4 kB)\n",
      "Requirement already satisfied: nest_asyncio in /usr/local/lib/python3.10/site-packages (from orbax-checkpoint->flax) (1.6.0)\n",
      "Requirement already satisfied: protobuf in /usr/local/lib/python3.10/site-packages (from orbax-checkpoint->flax) (3.20.3)\n",
      "Collecting toolz>=0.9.0 (from chex>=0.1.86->optax->flax)\n",
      "  Downloading toolz-0.12.1-py3-none-any.whl.metadata (5.1 kB)\n",
      "Requirement already satisfied: mdurl~=0.1 in /usr/local/lib/python3.10/site-packages (from markdown-it-py>=2.2.0->rich>=11.1->flax) (0.1.2)\n",
      "Requirement already satisfied: fsspec in /usr/local/lib/python3.10/site-packages (from etils[epath,epy]->orbax-checkpoint->flax) (2024.2.0)\n",
      "Requirement already satisfied: importlib_resources in /usr/local/lib/python3.10/site-packages (from etils[epath,epy]->orbax-checkpoint->flax) (6.4.0)\n",
      "Requirement already satisfied: zipp in /usr/local/lib/python3.10/site-packages (from etils[epath,epy]->orbax-checkpoint->flax) (3.18.1)\n",
      "Downloading flax-0.8.4-py3-none-any.whl (698 kB)\n",
      "\u001b[2K   \u001b[90m━━━━━━━━━━━━━━━━━━━━━━━━━━━━━━━━━━━━━━━━\u001b[0m \u001b[32m698.6/698.6 kB\u001b[0m \u001b[31m3.5 MB/s\u001b[0m eta \u001b[36m0:00:00\u001b[0ma \u001b[36m0:00:01\u001b[0m\n",
      "\u001b[?25hDownloading optax-0.2.2-py3-none-any.whl (223 kB)\n",
      "\u001b[2K   \u001b[90m━━━━━━━━━━━━━━━━━━━━━━━━━━━━━━━━━━━━━━━━\u001b[0m \u001b[32m223.7/223.7 kB\u001b[0m \u001b[31m8.0 MB/s\u001b[0m eta \u001b[36m0:00:00\u001b[0m\n",
      "\u001b[?25hDownloading orbax_checkpoint-0.5.20-py3-none-any.whl (222 kB)\n",
      "\u001b[2K   \u001b[90m━━━━━━━━━━━━━━━━━━━━━━━━━━━━━━━━━━━━━━━━\u001b[0m \u001b[32m222.2/222.2 kB\u001b[0m \u001b[31m10.9 MB/s\u001b[0m eta \u001b[36m0:00:00\u001b[0m\n",
      "\u001b[?25hDownloading tensorstore-0.1.63-cp310-cp310-manylinux_2_17_x86_64.manylinux2014_x86_64.whl (14.9 MB)\n",
      "\u001b[2K   \u001b[90m━━━━━━━━━━━━━━━━━━━━━━━━━━━━━━━━━━━━━━━━\u001b[0m \u001b[32m14.9/14.9 MB\u001b[0m \u001b[31m11.5 MB/s\u001b[0m eta \u001b[36m0:00:00\u001b[0m00:01\u001b[0m00:01\u001b[0m\n",
      "\u001b[?25hDownloading chex-0.1.86-py3-none-any.whl (98 kB)\n",
      "\u001b[2K   \u001b[90m━━━━━━━━━━━━━━━━━━━━━━━━━━━━━━━━━━━━━━━━\u001b[0m \u001b[32m98.2/98.2 kB\u001b[0m \u001b[31m13.7 MB/s\u001b[0m eta \u001b[36m0:00:00\u001b[0m\n",
      "\u001b[?25hDownloading toolz-0.12.1-py3-none-any.whl (56 kB)\n",
      "\u001b[2K   \u001b[90m━━━━━━━━━━━━━━━━━━━━━━━━━━━━━━━━━━━━━━━━\u001b[0m \u001b[32m56.1/56.1 kB\u001b[0m \u001b[31m11.1 MB/s\u001b[0m eta \u001b[36m0:00:00\u001b[0m\n",
      "\u001b[?25hDownloading etils-1.7.0-py3-none-any.whl (152 kB)\n",
      "\u001b[2K   \u001b[90m━━━━━━━━━━━━━━━━━━━━━━━━━━━━━━━━━━━━━━━━\u001b[0m \u001b[32m152.4/152.4 kB\u001b[0m \u001b[31m7.1 MB/s\u001b[0m eta \u001b[36m0:00:00\u001b[0m\n",
      "\u001b[?25hInstalling collected packages: toolz, etils, tensorstore, chex, orbax-checkpoint, optax, flax\n",
      "Successfully installed chex-0.1.86 etils-1.7.0 flax-0.8.4 optax-0.2.2 orbax-checkpoint-0.5.20 tensorstore-0.1.63 toolz-0.12.1\n",
      "\u001b[33mWARNING: Running pip as the 'root' user can result in broken permissions and conflicting behaviour with the system package manager. It is recommended to use a virtual environment instead: https://pip.pypa.io/warnings/venv\u001b[0m\u001b[33m\n",
      "\u001b[0m"
     ]
    }
   ],
   "source": [
    "# !pip install flax"
   ]
  },
  {
   "cell_type": "code",
   "execution_count": 2,
   "id": "85e0d39a-db3e-465f-a48b-ba49332359e9",
   "metadata": {
    "execution": {
     "parties": "[\"alice\",\"bob\"]",
     "shell.execute_reply.end": "2024-06-22T22:18:15.857544Z",
     "shell.execute_reply.started": "2024-06-22T22:18:09.777795Z",
     "to_execute": "2024-06-22T22:18:08.252Z"
    },
    "libroFormatter": "formatter-string"
   },
   "outputs": [],
   "source": [
    "# load data\n",
    "\n",
    "import numpy as np\n",
    "from sklearn.datasets import load_breast_cancer\n",
    "from sklearn.model_selection import train_test_split\n",
    "\n",
    "def breast_cancer(party_id=None, train: bool = True) -> (np.ndarray, np.ndarray):\n",
    "    x, y = load_breast_cancer(return_X_y=True)\n",
    "    x = (x - np.min(x)) / (np.max(x) - np.min(x))\n",
    "    x_train, x_test, y_train, y_test = train_test_split(\n",
    "        x, y, test_size=0.2, random_state=42\n",
    "    )\n",
    "\n",
    "    if train:\n",
    "        if party_id:\n",
    "            if party_id == 1:\n",
    "                return x_train[:, :15], _\n",
    "            else:\n",
    "                return x_train[:, 15:], y_train\n",
    "        else:\n",
    "            return x_train, y_train\n",
    "    else:\n",
    "        return x_test, y_test"
   ]
  },
  {
   "cell_type": "code",
   "execution_count": 3,
   "id": "91656489-d5d7-45a5-9a86-8eb1ae574610",
   "metadata": {
    "execution": {
     "parties": "[\"alice\",\"bob\"]",
     "shell.execute_reply.end": "2024-06-22T22:18:16.136797Z",
     "shell.execute_reply.started": "2024-06-22T22:18:10.126058Z",
     "to_execute": "2024-06-22T22:18:08.253Z"
    },
    "libroFormatter": "formatter-string"
   },
   "outputs": [],
   "source": [
    "# define a model\n",
    "from typing import Sequence\n",
    "import flax.linen as nn\n",
    "\n",
    "\n",
    "FEATURES = [30, 15, 8, 1]\n",
    "\n",
    "\n",
    "class MLP(nn.Module):\n",
    "    features: Sequence[int]\n",
    "\n",
    "    @nn.compact\n",
    "    def __call__(self, x):\n",
    "        for feat in self.features[:-1]:\n",
    "            x = nn.relu(nn.Dense(feat)(x))\n",
    "        x = nn.Dense(self.features[-1])(x)\n",
    "        return x"
   ]
  },
  {
   "cell_type": "code",
   "execution_count": 4,
   "id": "7651a259-9691-458b-af2e-03d2ed2c7e42",
   "metadata": {
    "execution": {
     "parties": "[\"alice\",\"bob\"]",
     "shell.execute_reply.end": "2024-06-22T22:18:16.144252Z",
     "shell.execute_reply.started": "2024-06-22T22:18:10.424125Z",
     "to_execute": "2024-06-22T22:18:08.253Z"
    },
    "libroFormatter": "formatter-string"
   },
   "outputs": [],
   "source": [
    "# train\n",
    "import jax.numpy as jnp\n",
    "import jax\n",
    "\n",
    "def predict(params, x):\n",
    "    # TODO(junfeng): investigate why need to have a duplicated definition in notebook,\n",
    "    # which is not the case in a normal python program.\n",
    "    from typing import Sequence\n",
    "    import flax.linen as nn\n",
    "\n",
    "    FEATURES = [30, 15, 8, 1]\n",
    "\n",
    "    class MLP(nn.Module):\n",
    "        features: Sequence[int]\n",
    "\n",
    "        @nn.compact\n",
    "        def __call__(self, x):\n",
    "            for feat in self.features[:-1]:\n",
    "                x = nn.relu(nn.Dense(feat)(x))\n",
    "            x = nn.Dense(self.features[-1])(x)\n",
    "            return x\n",
    "\n",
    "    return MLP(FEATURES).apply(params, x)\n",
    "\n",
    "\n",
    "def loss_func(params, x, y):\n",
    "    pred = predict(params, x)\n",
    "\n",
    "    def mse(y, pred):\n",
    "        def squared_error(y, y_pred):\n",
    "            return jnp.multiply(y - y_pred, y - y_pred) / 2.0\n",
    "\n",
    "        return jnp.mean(squared_error(y, pred))\n",
    "\n",
    "    return mse(y, pred)\n",
    "\n",
    "\n",
    "def train_auto_grad(x1, x2, y, params, n_batch=10, n_epochs=10, step_size=0.01):\n",
    "    x = jnp.concatenate((x1, x2), axis=1)\n",
    "    xs = jnp.array_split(x, len(x) / n_batch, axis=0)\n",
    "    ys = jnp.array_split(y, len(y) / n_batch, axis=0)\n",
    "\n",
    "    def body_fun(_, loop_carry):\n",
    "        params = loop_carry\n",
    "        for x, y in zip(xs, ys):\n",
    "            _, grads = jax.value_and_grad(loss_func)(params, x, y)\n",
    "            params = jax.tree_util.tree_map(\n",
    "                lambda p, g: p - step_size * g, params, grads\n",
    "            )\n",
    "        return params\n",
    "\n",
    "    params = jax.lax.fori_loop(0, n_epochs, body_fun, params)\n",
    "    return params\n",
    "\n",
    "\n",
    "def model_init(n_batch=10):\n",
    "    model = MLP(FEATURES)\n",
    "    return model.init(jax.random.PRNGKey(1), jnp.ones((n_batch, FEATURES[0])))"
   ]
  },
  {
   "cell_type": "code",
   "execution_count": 5,
   "id": "5c101137-9140-4bbd-b9dd-4f9186e92f4e",
   "metadata": {
    "execution": {
     "parties": "[\"alice\",\"bob\"]",
     "shell.execute_reply.end": "2024-06-22T22:18:16.149507Z",
     "shell.execute_reply.started": "2024-06-22T22:18:10.431119Z",
     "to_execute": "2024-06-22T22:18:08.253Z"
    },
    "libroFormatter": "formatter-string"
   },
   "outputs": [],
   "source": [
    "# validate\n",
    "from sklearn.metrics import roc_auc_score\n",
    "\n",
    "\n",
    "def validate_model(params, X_test, y_test):\n",
    "    y_pred = predict(params, X_test)\n",
    "    return roc_auc_score(y_test, y_pred)"
   ]
  },
  {
   "cell_type": "code",
   "execution_count": 6,
   "id": "5f6b25cc-5fbc-49d2-89b8-9e3957fb9df3",
   "metadata": {
    "execution": {
     "parties": "[\"alice\",\"bob\"]",
     "shell.execute_reply.end": "2024-06-22T22:18:25.081172Z",
     "shell.execute_reply.started": "2024-06-22T22:18:10.435538Z",
     "to_execute": "2024-06-22T22:18:08.254Z"
    },
    "libroFormatter": "formatter-string"
   },
   "outputs": [
    {
     "data": {
      "text/html": [
       "<h4>alice's Output:</h4>"
      ]
     },
     "metadata": {},
     "output_type": "display_data"
    },
    {
     "name": "stdout",
     "output_type": "stream",
     "text": [
      "auc=0.9927939731411726\n"
     ]
    },
    {
     "data": {
      "text/html": [
       "<h4>bob's Output:</h4>"
      ]
     },
     "metadata": {},
     "output_type": "display_data"
    },
    {
     "name": "stdout",
     "output_type": "stream",
     "text": [
      "auc=0.9927939731411726\n"
     ]
    }
   ],
   "source": [
    "# plaintext training\n",
    "\n",
    "# Load the data\n",
    "x1, _ = breast_cancer(party_id=1, train=True)\n",
    "x2, y = breast_cancer(party_id=2, train=True)\n",
    "\n",
    "\n",
    "# Hyperparameter\n",
    "n_batch = 10\n",
    "n_epochs = 10\n",
    "step_size = 0.01\n",
    "\n",
    "\n",
    "# Train the model\n",
    "init_params = model_init(n_batch)\n",
    "params = train_auto_grad(x1, x2, y, init_params, n_batch, n_epochs, step_size)\n",
    "\n",
    "# Test the model\n",
    "X_test, y_test = breast_cancer(train=False)\n",
    "auc = validate_model(params, X_test, y_test)\n",
    "print(f'auc={auc}')"
   ]
  },
  {
   "cell_type": "code",
   "execution_count": 7,
   "id": "b55bf8cd-083c-498f-bad4-ea251d45a8e4",
   "metadata": {
    "execution": {
     "parties": "[\"alice\",\"bob\"]",
     "shell.execute_reply.end": "2024-06-22T22:18:41.619222Z",
     "shell.execute_reply.started": "2024-06-22T22:18:18.631190Z",
     "to_execute": "2024-06-22T22:18:08.254Z"
    },
    "libroFormatter": "formatter-string"
   },
   "outputs": [
    {
     "data": {
      "text/html": [
       "<h4>alice's Output:</h4>"
      ]
     },
     "metadata": {},
     "output_type": "display_data"
    },
    {
     "name": "stdout",
     "output_type": "stream",
     "text": [
      "The version of SecretFlow: 1.5.0b0\n"
     ]
    },
    {
     "name": "stderr",
     "output_type": "stream",
     "text": [
      "/usr/local/lib/python3.10/subprocess.py:1796: RuntimeWarning: os.fork() was called. os.fork() is incompatible with multithreaded code, and JAX is multithreaded, so this will likely lead to a deadlock.\n",
      "  self.pid = _posixsubprocess.fork_exec(\n",
      "2024-06-22 22:18:20,639\tWARNING services.py:1996 -- WARNING: The object store is using /tmp instead of /dev/shm because /dev/shm has only 67108864 bytes available. This will harm performance! You may be able to free up space by deleting files in /dev/shm. If you are inside a Docker container, you can increase /dev/shm size by passing '--shm-size=4.16gb' to 'docker run' (or add it to the run_options list in a Ray cluster config). Make sure to set this to more than 30% of available RAM.\n",
      "2024-06-22 22:18:21,777\tINFO worker.py:1724 -- Started a local Ray instance.\n",
      "\u001b[36m(_run pid=4993)\u001b[0m INFO:jax._src.xla_bridge:Unable to initialize backend 'cuda': \n",
      "\u001b[36m(_run pid=4993)\u001b[0m INFO:jax._src.xla_bridge:Unable to initialize backend 'rocm': module 'jaxlib.xla_extension' has no attribute 'GpuAllocatorConfig'\n",
      "\u001b[36m(_run pid=4993)\u001b[0m INFO:jax._src.xla_bridge:Unable to initialize backend 'tpu': INTERNAL: Failed to open libtpu.so: libtpu.so: cannot open shared object file: No such file or directory\n"
     ]
    },
    {
     "data": {
      "text/html": [
       "<h4>bob's Output:</h4>"
      ]
     },
     "metadata": {},
     "output_type": "display_data"
    },
    {
     "name": "stdout",
     "output_type": "stream",
     "text": [
      "The version of SecretFlow: 1.5.0b0\n"
     ]
    },
    {
     "name": "stderr",
     "output_type": "stream",
     "text": [
      "/usr/local/lib/python3.10/subprocess.py:1796: RuntimeWarning: os.fork() was called. os.fork() is incompatible with multithreaded code, and JAX is multithreaded, so this will likely lead to a deadlock.\n",
      "  self.pid = _posixsubprocess.fork_exec(\n",
      "2024-06-22 22:18:27,279\tWARNING services.py:1996 -- WARNING: The object store is using /tmp instead of /dev/shm because /dev/shm has only 67108864 bytes available. This will harm performance! You may be able to free up space by deleting files in /dev/shm. If you are inside a Docker container, you can increase /dev/shm size by passing '--shm-size=4.37gb' to 'docker run' (or add it to the run_options list in a Ray cluster config). Make sure to set this to more than 30% of available RAM.\n",
      "2024-06-22 22:18:27,410\tINFO worker.py:1724 -- Started a local Ray instance.\n",
      "\u001b[36m(_run pid=1786)\u001b[0m INFO:jax._src.xla_bridge:Unable to initialize backend 'cuda': \n",
      "\u001b[36m(_run pid=1786)\u001b[0m INFO:jax._src.xla_bridge:Unable to initialize backend 'rocm': module 'jaxlib.xla_extension' has no attribute 'GpuAllocatorConfig'\n",
      "\u001b[36m(_run pid=1786)\u001b[0m INFO:jax._src.xla_bridge:Unable to initialize backend 'tpu': INTERNAL: Failed to open libtpu.so: libtpu.so: cannot open shared object file: No such file or directory\n"
     ]
    }
   ],
   "source": [
    "# spu train\n",
    "import secretflow as sf\n",
    "\n",
    "# Check the version of your SecretFlow\n",
    "print('The version of SecretFlow: {}'.format(sf.__version__))\n",
    "\n",
    "# In case you have a running secretflow runtime already.\n",
    "sf.shutdown()\n",
    "\n",
    "sf.init(['alice', 'bob'], address='local')\n",
    "\n",
    "alice, bob = sf.PYU('alice'), sf.PYU('bob')\n",
    "spu = sf.SPU(sf.utils.testing.cluster_def(['alice', 'bob']))\n",
    "\n",
    "x1, _ = alice(breast_cancer)(party_id=1)\n",
    "x2, y = bob(breast_cancer)(party_id=2)\n",
    "\n",
    "device = spu\n",
    "x1_, x2_, y_ = x1.to(device),  x2.to(device), y.to(device)\n",
    "init_params_=sf.to(alice, init_params).to(device)\n",
    "\n",
    "params_spu = spu(train_auto_grad, static_argnames=[\"n_batch\", \"n_epochs\", \"step_size\"])(\n",
    "    x1_, x2_, y_, init_params_, n_batch=n_batch, n_epochs=n_epochs, step_size=step_size\n",
    ")\n",
    "\n",
    "# validate spu training\n",
    "params_from_spu=sf.reveal(params_spu)\n",
    "# print(params)\n"
   ]
  },
  {
   "cell_type": "code",
   "execution_count": 9,
   "id": "1f3e9a05-e6d8-4e91-ac5c-e564778c6f68",
   "metadata": {
    "execution": {
     "parties": "[\"alice\",\"bob\"]",
     "shell.execute_reply.end": "2024-06-22T22:19:00.502905Z",
     "shell.execute_reply.started": "2024-06-22T22:19:00.471892Z",
     "to_execute": "2024-06-22T22:19:00.468Z"
    },
    "libroFormatter": "formatter-string"
   },
   "outputs": [
    {
     "data": {
      "text/html": [
       "<h4>bob's Output:</h4>"
      ]
     },
     "metadata": {},
     "output_type": "display_data"
    },
    {
     "name": "stdout",
     "output_type": "stream",
     "text": [
      "auc_spu: 0.9927939731411726\n"
     ]
    },
    {
     "data": {
      "text/html": [
       "<h4>alice's Output:</h4>"
      ]
     },
     "metadata": {},
     "output_type": "display_data"
    },
    {
     "name": "stdout",
     "output_type": "stream",
     "text": [
      "auc_spu: 0.9927939731411726\n"
     ]
    }
   ],
   "source": [
    "# validate spu training\n",
    "X_test, y_test=breast_cancer(train=False)\n",
    "auc_spu=validate_model(params_from_spu, X_test, y_test)\n",
    "print(\"auc_spu:\", auc_spu)"
   ]
  }
 ],
 "metadata": {},
 "nbformat": 4,
 "nbformat_minor": 5
}
